{
 "cells": [
  {
   "cell_type": "markdown",
   "id": "266e7c49-1c76-49f7-af46-e890ed550cb2",
   "metadata": {},
   "source": [
    "# Variables"
   ]
  },
  {
   "cell_type": "code",
   "execution_count": 1,
   "id": "503c435c-3e24-409e-bb1d-de86cff0ed64",
   "metadata": {},
   "outputs": [],
   "source": [
    "age = 24\n",
    "name = 'Anit'\n",
    "height = 5.9\n",
    "bool = True"
   ]
  },
  {
   "cell_type": "code",
   "execution_count": 3,
   "id": "4d099ff8-dfd5-4721-b78f-c3ee10ea01a6",
   "metadata": {},
   "outputs": [
    {
     "data": {
      "text/plain": [
       "(24, 'Anit')"
      ]
     },
     "execution_count": 3,
     "metadata": {},
     "output_type": "execute_result"
    }
   ],
   "source": [
    "age , name"
   ]
  },
  {
   "cell_type": "markdown",
   "id": "dec597a4-1819-420f-bc57-805afef821fa",
   "metadata": {},
   "source": [
    "# Data Structures\n",
    "1. Lists\n",
    "2. Tuple\n",
    "3. Dictionary\n",
    "4. Sets"
   ]
  },
  {
   "cell_type": "code",
   "execution_count": 5,
   "id": "8ab5be54-e980-4a37-993d-7cc0fe78cf24",
   "metadata": {},
   "outputs": [
    {
     "data": {
      "text/plain": [
       "[1, 1.2, 'Python', False]"
      ]
     },
     "execution_count": 5,
     "metadata": {},
     "output_type": "execute_result"
    }
   ],
   "source": [
    "lst = [1,1.2,'Python',False]\n",
    "lst"
   ]
  },
  {
   "cell_type": "code",
   "execution_count": 3,
   "id": "8b4e32b6-4d73-4bf4-bd2d-4b4001ad5d33",
   "metadata": {},
   "outputs": [
    {
     "data": {
      "text/plain": [
       "list"
      ]
     },
     "execution_count": 3,
     "metadata": {},
     "output_type": "execute_result"
    }
   ],
   "source": [
    "type(lst)"
   ]
  },
  {
   "cell_type": "code",
   "execution_count": 7,
   "id": "9717ce00-805a-4ef3-abaa-7c4121fcd3a3",
   "metadata": {},
   "outputs": [],
   "source": [
    "lst.append('Session')"
   ]
  },
  {
   "cell_type": "code",
   "execution_count": 9,
   "id": "424f517f-1441-4943-89a4-0ee382a22549",
   "metadata": {},
   "outputs": [
    {
     "data": {
      "text/plain": [
       "[1, 1.2, 'Python', False, 'Session']"
      ]
     },
     "execution_count": 9,
     "metadata": {},
     "output_type": "execute_result"
    }
   ],
   "source": [
    "lst"
   ]
  },
  {
   "cell_type": "code",
   "execution_count": 11,
   "id": "d4a4a9b6-acb7-4562-857b-b28929a0004a",
   "metadata": {},
   "outputs": [
    {
     "data": {
      "text/plain": [
       "[1.2, 'Python', False, 'Session']"
      ]
     },
     "execution_count": 11,
     "metadata": {},
     "output_type": "execute_result"
    }
   ],
   "source": [
    "lst.remove(1)\n",
    "lst"
   ]
  },
  {
   "cell_type": "code",
   "execution_count": 5,
   "id": "56498772-001d-4b04-8047-91e8fd006c8e",
   "metadata": {},
   "outputs": [
    {
     "data": {
      "text/plain": [
       "(1, 2, 2, 3, 'Python', 'Data')"
      ]
     },
     "execution_count": 5,
     "metadata": {},
     "output_type": "execute_result"
    }
   ],
   "source": [
    "t = (1,2,2,3,'Python','Data')\n",
    "t"
   ]
  },
  {
   "cell_type": "code",
   "execution_count": 7,
   "id": "1abe1772-d244-4f2c-bd06-b42ae53c4d48",
   "metadata": {},
   "outputs": [
    {
     "data": {
      "text/plain": [
       "tuple"
      ]
     },
     "execution_count": 7,
     "metadata": {},
     "output_type": "execute_result"
    }
   ],
   "source": [
    "type(t)"
   ]
  },
  {
   "cell_type": "code",
   "execution_count": 11,
   "id": "6d6c15d4-0219-4baf-95ac-48cac06e839c",
   "metadata": {
    "scrolled": true
   },
   "outputs": [
    {
     "ename": "AttributeError",
     "evalue": "'tuple' object has no attribute 'remove'",
     "output_type": "error",
     "traceback": [
      "\u001b[1;31m---------------------------------------------------------------------------\u001b[0m",
      "\u001b[1;31mAttributeError\u001b[0m                            Traceback (most recent call last)",
      "Cell \u001b[1;32mIn[11], line 1\u001b[0m\n\u001b[1;32m----> 1\u001b[0m t\u001b[38;5;241m.\u001b[39mremove(\u001b[38;5;124m'\u001b[39m\u001b[38;5;124mData\u001b[39m\u001b[38;5;124m'\u001b[39m)\n",
      "\u001b[1;31mAttributeError\u001b[0m: 'tuple' object has no attribute 'remove'"
     ]
    }
   ],
   "source": [
    "t.remove('Data')"
   ]
  },
  {
   "cell_type": "code",
   "execution_count": 15,
   "id": "d79cd6b3-6d36-4114-8990-f4ec4ea435f1",
   "metadata": {},
   "outputs": [
    {
     "data": {
      "text/plain": [
       "dict"
      ]
     },
     "execution_count": 15,
     "metadata": {},
     "output_type": "execute_result"
    }
   ],
   "source": [
    "abc = {}\n",
    "abc\n",
    "type(abc)"
   ]
  },
  {
   "cell_type": "code",
   "execution_count": 17,
   "id": "992aa294-5f5c-4fe0-80ba-ee506fa4d373",
   "metadata": {},
   "outputs": [
    {
     "data": {
      "text/plain": [
       "{'Name': 'Anita', 'Age': 24, 'Course': 'DS'}"
      ]
     },
     "execution_count": 17,
     "metadata": {},
     "output_type": "execute_result"
    }
   ],
   "source": [
    "dictionary = {'Name':'Anita','Age':24,'Course':\"DS\"}\n",
    "dictionary"
   ]
  },
  {
   "cell_type": "code",
   "execution_count": 19,
   "id": "8f48184e-d487-4829-bd4f-03af56344bef",
   "metadata": {},
   "outputs": [
    {
     "data": {
      "text/plain": [
       "{'Name': 'Anita', 'Age': 24, 'Course': 'DS', 'Location': 'Pune'}"
      ]
     },
     "execution_count": 19,
     "metadata": {},
     "output_type": "execute_result"
    }
   ],
   "source": [
    "dictionary.update({'Location':'Pune'})\n",
    "dictionary"
   ]
  },
  {
   "cell_type": "code",
   "execution_count": 21,
   "id": "8f71b910-dac0-4955-a801-f414317ea844",
   "metadata": {},
   "outputs": [
    {
     "data": {
      "text/plain": [
       "{'Name': 'Anita', 'Course': 'DS', 'Location': 'Pune'}"
      ]
     },
     "execution_count": 21,
     "metadata": {},
     "output_type": "execute_result"
    }
   ],
   "source": [
    "dictionary.pop('Age')\n",
    "dictionary"
   ]
  },
  {
   "cell_type": "code",
   "execution_count": 23,
   "id": "13d79bfe-ccc4-4127-ab55-54bd0203293a",
   "metadata": {},
   "outputs": [
    {
     "data": {
      "text/plain": [
       "{1, 2, 5, 'Python'}"
      ]
     },
     "execution_count": 23,
     "metadata": {},
     "output_type": "execute_result"
    }
   ],
   "source": [
    "s = {1,1,2,2,2,5,'Python'}\n",
    "s"
   ]
  },
  {
   "cell_type": "code",
   "execution_count": 25,
   "id": "e93abacb-07b4-4a91-8e47-5818c5d138de",
   "metadata": {},
   "outputs": [
    {
     "data": {
      "text/plain": [
       "{1, 2, 5, 52, 'Python'}"
      ]
     },
     "execution_count": 25,
     "metadata": {},
     "output_type": "execute_result"
    }
   ],
   "source": [
    "s.add(52)\n",
    "s"
   ]
  },
  {
   "cell_type": "code",
   "execution_count": 27,
   "id": "7a8bd2f2-5261-48cc-bc4b-e361768fdc7e",
   "metadata": {},
   "outputs": [
    {
     "data": {
      "text/plain": [
       "{1, 1.2, 2, 5, 52, 'Python'}"
      ]
     },
     "execution_count": 27,
     "metadata": {},
     "output_type": "execute_result"
    }
   ],
   "source": [
    "s.add(1.2)\n",
    "s"
   ]
  },
  {
   "cell_type": "code",
   "execution_count": 29,
   "id": "c4225bae-42af-4b02-831a-6af0ff9d91e2",
   "metadata": {},
   "outputs": [
    {
     "data": {
      "text/plain": [
       "1"
      ]
     },
     "execution_count": 29,
     "metadata": {},
     "output_type": "execute_result"
    }
   ],
   "source": [
    "s.pop()"
   ]
  },
  {
   "cell_type": "code",
   "execution_count": 31,
   "id": "c4d91ffb-2f05-41a3-8a0d-bc9d016b765e",
   "metadata": {},
   "outputs": [
    {
     "data": {
      "text/plain": [
       "{1.2, 2, 5, 52, 'Python'}"
      ]
     },
     "execution_count": 31,
     "metadata": {},
     "output_type": "execute_result"
    }
   ],
   "source": [
    "s"
   ]
  },
  {
   "cell_type": "markdown",
   "id": "30ccf08a-a37b-4322-8b07-0e2c23e83434",
   "metadata": {},
   "source": [
    "# Remove all duplicate values from list."
   ]
  },
  {
   "cell_type": "code",
   "execution_count": 33,
   "id": "5629da8a-1465-4622-8612-998451e856fd",
   "metadata": {},
   "outputs": [
    {
     "data": {
      "text/plain": [
       "[10, 10, 10, 10, 25, 25, 63, 68, 69, 89, 89]"
      ]
     },
     "execution_count": 33,
     "metadata": {},
     "output_type": "execute_result"
    }
   ],
   "source": [
    "lst = [10,10,10,10,25,25,63,68,69,89,89]\n",
    "lst"
   ]
  },
  {
   "cell_type": "code",
   "execution_count": 37,
   "id": "180da5c7-b18e-47c4-a743-e34766a56580",
   "metadata": {},
   "outputs": [
    {
     "data": {
      "text/plain": [
       "set"
      ]
     },
     "execution_count": 37,
     "metadata": {},
     "output_type": "execute_result"
    }
   ],
   "source": [
    "type(set(lst))"
   ]
  },
  {
   "cell_type": "code",
   "execution_count": 43,
   "id": "89f23e1e-e788-4f76-a731-c59a16d18639",
   "metadata": {},
   "outputs": [
    {
     "data": {
      "text/plain": [
       "list"
      ]
     },
     "execution_count": 43,
     "metadata": {},
     "output_type": "execute_result"
    }
   ],
   "source": [
    "lst = list(set(lst))\n",
    "\n",
    "lst\n",
    "type(lst)"
   ]
  },
  {
   "cell_type": "code",
   "execution_count": 47,
   "id": "a2058a51-0d63-4f9d-9030-7965ef5dacbb",
   "metadata": {},
   "outputs": [],
   "source": [
    "lst.clear()"
   ]
  },
  {
   "cell_type": "code",
   "execution_count": 49,
   "id": "b3aa3f11-0f9c-4e7d-a75f-2773f57e9937",
   "metadata": {},
   "outputs": [
    {
     "data": {
      "text/plain": [
       "[]"
      ]
     },
     "execution_count": 49,
     "metadata": {},
     "output_type": "execute_result"
    }
   ],
   "source": [
    "lst"
   ]
  },
  {
   "cell_type": "markdown",
   "id": "9395e0ab-60b5-47e7-b219-b1b8549dd5f2",
   "metadata": {},
   "source": [
    "# Conditional Statements\n",
    "- if\r",
    "- \n",
    "else\n",
    "-  \r\n",
    "elif"
   ]
  },
  {
   "cell_type": "code",
   "execution_count": 61,
   "id": "e043e34c-641b-4d33-ba24-6c36ac91ac31",
   "metadata": {},
   "outputs": [
    {
     "data": {
      "text/plain": [
       "True"
      ]
     },
     "execution_count": 61,
     "metadata": {},
     "output_type": "execute_result"
    }
   ],
   "source": [
    "a = 10\n",
    "b = 7\n",
    "\n",
    "a == b"
   ]
  },
  {
   "cell_type": "code",
   "execution_count": 65,
   "id": "293dac5f-9f77-4eba-bbb2-eb3c484867ac",
   "metadata": {},
   "outputs": [],
   "source": [
    "original = 'abc123'\n",
    "input = 'abc1'\n",
    "\n",
    "if original == input :\n",
    "    print('Access granted')"
   ]
  },
  {
   "cell_type": "code",
   "execution_count": 73,
   "id": "d319bcd7-5861-4821-8603-6630b6d5b69f",
   "metadata": {},
   "outputs": [
    {
     "name": "stdout",
     "output_type": "stream",
     "text": [
      "Try again\n"
     ]
    }
   ],
   "source": [
    "original = 'abc123'\n",
    "input = 'abc'\n",
    "\n",
    "if original == input:\n",
    "    print('Log in successful')  \n",
    "else:\n",
    "    print('Try again')"
   ]
  },
  {
   "cell_type": "code",
   "execution_count": 79,
   "id": "e682ed5b-d349-4824-acad-6ab228f12013",
   "metadata": {},
   "outputs": [
    {
     "name": "stdout",
     "output_type": "stream",
     "text": [
      "Zero\n"
     ]
    }
   ],
   "source": [
    "#Check whether the number is positive/negative/Zero\n",
    "\n",
    "number = 0\n",
    "\n",
    "if number > 0:\n",
    "    print('Positive')\n",
    "elif number < 0:\n",
    "    print('Negative')\n",
    "else:\n",
    "    print('Zero')"
   ]
  },
  {
   "cell_type": "code",
   "execution_count": 95,
   "id": "65234cb5-831a-4bb5-a799-82a679b7979a",
   "metadata": {},
   "outputs": [
    {
     "name": "stdout",
     "output_type": "stream",
     "text": [
      "A\n"
     ]
    }
   ],
   "source": [
    "#marks : >= 85 : 'A'\n",
    "#marks : 70 - 85 : 'B'\n",
    "#marks : 55 - 70 : 'C'\n",
    "#marks : <55 : 'D'\n",
    "\n",
    "marks = 85\n",
    "\n",
    "if marks >= 85:\n",
    "    print('A')\n",
    "elif (marks < 85 and marks >= 70):\n",
    "    print('B')\n",
    "elif (marks < 70 and marks >= 55):\n",
    "    print('C')\n",
    "else:\n",
    "    print('D')"
   ]
  },
  {
   "cell_type": "markdown",
   "id": "065c10b2-ed2f-4bdd-90a6-82ab0789c826",
   "metadata": {},
   "source": [
    "# Functions"
   ]
  },
  {
   "cell_type": "markdown",
   "id": "b952bb37-7eb8-42a5-bc3b-7c40ebec0e2a",
   "metadata": {},
   "source": [
    "- In python, there are two types of function.\n",
    "    - Built-in funtions\n",
    "    - User defined function\n",
    "- We can create our own customized functions in python for code reusability."
   ]
  },
  {
   "cell_type": "code",
   "execution_count": 13,
   "id": "d08b6842-57f2-46f6-9f0b-2f0692473501",
   "metadata": {},
   "outputs": [
    {
     "name": "stdout",
     "output_type": "stream",
     "text": [
      "Second line\n"
     ]
    }
   ],
   "source": [
    "def simple_function():\n",
    "    print('This is user defined function')\n",
    "print('Second line')"
   ]
  },
  {
   "cell_type": "code",
   "execution_count": 15,
   "id": "27e36836-342a-4205-a7d5-bdd0f5817b0c",
   "metadata": {},
   "outputs": [
    {
     "name": "stdout",
     "output_type": "stream",
     "text": [
      "This is user defined function\n"
     ]
    }
   ],
   "source": [
    "simple_function()"
   ]
  },
  {
   "cell_type": "code",
   "execution_count": 17,
   "id": "5a03c102-4849-443b-890f-d57c9b95f6ab",
   "metadata": {},
   "outputs": [],
   "source": [
    "def addition():\n",
    "    print(5+75)"
   ]
  },
  {
   "cell_type": "code",
   "execution_count": 21,
   "id": "f28cda0c-d791-4675-8dd1-e3352107fcf7",
   "metadata": {},
   "outputs": [
    {
     "ename": "TypeError",
     "evalue": "addition() takes 0 positional arguments but 2 were given",
     "output_type": "error",
     "traceback": [
      "\u001b[1;31m---------------------------------------------------------------------------\u001b[0m",
      "\u001b[1;31mTypeError\u001b[0m                                 Traceback (most recent call last)",
      "Cell \u001b[1;32mIn[21], line 1\u001b[0m\n\u001b[1;32m----> 1\u001b[0m addition(\u001b[38;5;241m7547\u001b[39m,\u001b[38;5;241m85\u001b[39m)\n",
      "\u001b[1;31mTypeError\u001b[0m: addition() takes 0 positional arguments but 2 were given"
     ]
    }
   ],
   "source": [
    "addition(7547,85)"
   ]
  },
  {
   "cell_type": "code",
   "execution_count": 23,
   "id": "f1724c50-e029-4e9f-83c5-8c81ef52698e",
   "metadata": {},
   "outputs": [],
   "source": [
    "def addition(x,y):\n",
    "    print(x+y)"
   ]
  },
  {
   "cell_type": "code",
   "execution_count": 29,
   "id": "726f5ef1-09e4-496a-b201-1ea19f3024ce",
   "metadata": {},
   "outputs": [
    {
     "name": "stdout",
     "output_type": "stream",
     "text": [
      "6857\n"
     ]
    }
   ],
   "source": [
    "addition(10,6847)"
   ]
  },
  {
   "cell_type": "code",
   "execution_count": 43,
   "id": "a53be00a-21b5-418a-8702-3079f6f1a5a4",
   "metadata": {},
   "outputs": [],
   "source": [
    "lst = []\n",
    "lst.append(45)"
   ]
  },
  {
   "cell_type": "code",
   "execution_count": 33,
   "id": "fc6c0a83-202d-4622-b692-97fb8a0dc82e",
   "metadata": {},
   "outputs": [],
   "source": [
    "#Write a python function which will return me the maximum number\n",
    "def max_number(num1,num2):\n",
    "    '''This function returns max number between given two number'''\n",
    "    return max(num1,num2)"
   ]
  },
  {
   "cell_type": "code",
   "execution_count": 35,
   "id": "4f85dd6e-a210-4a4c-a1dd-2c6888cab1ad",
   "metadata": {},
   "outputs": [
    {
     "data": {
      "text/plain": [
       "75"
      ]
     },
     "execution_count": 35,
     "metadata": {},
     "output_type": "execute_result"
    }
   ],
   "source": [
    "max_number(10,75)"
   ]
  },
  {
   "cell_type": "code",
   "execution_count": 41,
   "id": "0f2cdcbc-ea52-48bd-82f0-eb219c2a0dec",
   "metadata": {},
   "outputs": [],
   "source": [
    "def max_value(a,b):\n",
    "    '''This function returns max number between given two number'''\n",
    "    if a > b:\n",
    "        print(a)\n",
    "    else:\n",
    "        print(b)   "
   ]
  },
  {
   "cell_type": "code",
   "execution_count": 39,
   "id": "fb485abb-852c-4289-aa2b-03c1a04cd87a",
   "metadata": {},
   "outputs": [
    {
     "name": "stdout",
     "output_type": "stream",
     "text": [
      "78\n"
     ]
    }
   ],
   "source": [
    "max_value(45,78)"
   ]
  },
  {
   "cell_type": "markdown",
   "id": "442a1b9e-f83c-4ce9-8d10-7002c21fe4be",
   "metadata": {},
   "source": [
    "# Loops"
   ]
  },
  {
   "cell_type": "markdown",
   "id": "3f3a6842-3be5-49ec-a5fe-3beb814e4faf",
   "metadata": {},
   "source": [
    "- Loops in Python are essential for performing repetitive tasks or iterating over collections of data.\n",
    "- They allow you to execute a block of code repeatedly, saving you from having to write the same code over and over again.\n",
    "- There are two types of loops in python:\n",
    "- **For loop**\n",
    "- for loops are used when you know in advance how many times you want to iterate over a sequence or a range of values.\n",
    "They are commonly used for iterating over elements in a list, tuple, string, or other iterable objects.\n",
    "While loop\n",
    "\n",
    "- **while loops** are used when you want to repeat a block of code as long as a certain condition is true.\n",
    "They are suitable when you don't know in advance how many times the loop needs to run."
   ]
  },
  {
   "cell_type": "markdown",
   "id": "91293774-bfe5-4580-86a9-95c4998208e5",
   "metadata": {},
   "source": [
    "# While Loop"
   ]
  },
  {
   "cell_type": "code",
   "execution_count": null,
   "id": "5e1d2122-12c9-46cb-9f8d-3f683a40430b",
   "metadata": {},
   "outputs": [],
   "source": [
    "python = 10\n",
    "\n",
    "while python > 0:\n",
    "    print('Learning python',python)\n",
    "    python = python - 1\n",
    "print('Python completed')"
   ]
  },
  {
   "cell_type": "code",
   "execution_count": null,
   "id": "7e522e8a-8542-4db8-9fd7-d11c16f29a31",
   "metadata": {},
   "outputs": [],
   "source": [
    "steps = 0\n",
    "while steps <= 25:\n",
    "    print('Taking steps')\n",
    "    steps = steps + 1"
   ]
  },
  {
   "cell_type": "markdown",
   "id": "7216e13a-2e7c-40d9-a4f0-c222fd96158b",
   "metadata": {},
   "source": [
    "# For loop and range function"
   ]
  },
  {
   "cell_type": "code",
   "execution_count": null,
   "id": "32c3136a-91f1-47f4-8761-919585b63da3",
   "metadata": {},
   "outputs": [],
   "source": [
    "range(1,10)"
   ]
  },
  {
   "cell_type": "code",
   "execution_count": null,
   "id": "5e545517-d0d7-4086-9d49-60765e599dd3",
   "metadata": {},
   "outputs": [],
   "source": [
    "for i in range(1,10):\n",
    "    print(i)"
   ]
  },
  {
   "cell_type": "code",
   "execution_count": null,
   "id": "efc8a3de-71c9-4a81-9d3e-535dcb4f3100",
   "metadata": {},
   "outputs": [],
   "source": [
    "for x in range(1,10):\n",
    "    print(x**2)"
   ]
  },
  {
   "cell_type": "code",
   "execution_count": null,
   "id": "86384875-1e57-4c52-83f6-9ca2b158c569",
   "metadata": {},
   "outputs": [],
   "source": [
    "#Company list\n",
    "company = ['flipkart','amazon','excelr']\n",
    "company"
   ]
  },
  {
   "cell_type": "code",
   "execution_count": null,
   "id": "1dde51cb-dc05-4947-9ed3-9e57ceafa842",
   "metadata": {},
   "outputs": [],
   "source": [
    "for i in company:\n",
    "    print(i)"
   ]
  },
  {
   "cell_type": "code",
   "execution_count": null,
   "id": "daec88ae-a0bb-4603-8f2b-0b887cf4785d",
   "metadata": {},
   "outputs": [],
   "source": [
    "for i in company:\n",
    "    print('www.'+i+'.com')"
   ]
  },
  {
   "cell_type": "code",
   "execution_count": null,
   "id": "e81ede4f-4041-4708-bb03-46768912af4a",
   "metadata": {},
   "outputs": [],
   "source": []
  }
 ],
 "metadata": {
  "kernelspec": {
   "display_name": "Python 3 (ipykernel)",
   "language": "python",
   "name": "python3"
  },
  "language_info": {
   "codemirror_mode": {
    "name": "ipython",
    "version": 3
   },
   "file_extension": ".py",
   "mimetype": "text/x-python",
   "name": "python",
   "nbconvert_exporter": "python",
   "pygments_lexer": "ipython3",
   "version": "3.12.4"
  }
 },
 "nbformat": 4,
 "nbformat_minor": 5
}
