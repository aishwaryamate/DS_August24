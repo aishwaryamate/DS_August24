{
 "cells": [
  {
   "cell_type": "markdown",
   "id": "288bdea0",
   "metadata": {},
   "source": [
    "# Pandas\n",
    "- Pandas is an open-source library that is made mainly for working with relational or labeled data both easily and intuitively.\n",
    "- It provides various data structures and operations for manipulating numerical data and time series.\n",
    "- This library is built on top of the NumPy library.\n",
    "- Pandas is fast and it has high performance & productivity for users.\n"
   ]
  },
  {
   "cell_type": "code",
   "execution_count": 1,
   "id": "481ad6d0-afaf-4d28-bd19-aef5ac1bed3b",
   "metadata": {},
   "outputs": [
    {
     "name": "stdout",
     "output_type": "stream",
     "text": [
      "Requirement already satisfied: pandas in c:\\users\\excelr\\anaconda3\\lib\\site-packages (2.2.2)\n",
      "Requirement already satisfied: numpy>=1.26.0 in c:\\users\\excelr\\anaconda3\\lib\\site-packages (from pandas) (1.26.4)\n",
      "Requirement already satisfied: python-dateutil>=2.8.2 in c:\\users\\excelr\\anaconda3\\lib\\site-packages (from pandas) (2.9.0.post0)\n",
      "Requirement already satisfied: pytz>=2020.1 in c:\\users\\excelr\\anaconda3\\lib\\site-packages (from pandas) (2024.1)\n",
      "Requirement already satisfied: tzdata>=2022.7 in c:\\users\\excelr\\anaconda3\\lib\\site-packages (from pandas) (2023.3)\n",
      "Requirement already satisfied: six>=1.5 in c:\\users\\excelr\\anaconda3\\lib\\site-packages (from python-dateutil>=2.8.2->pandas) (1.16.0)\n"
     ]
    }
   ],
   "source": [
    "!pip install pandas"
   ]
  },
  {
   "cell_type": "code",
   "execution_count": 3,
   "id": "ec2e8ca0",
   "metadata": {
    "ExecuteTime": {
     "end_time": "2023-08-03T07:40:57.510388Z",
     "start_time": "2023-08-03T07:40:55.581433Z"
    }
   },
   "outputs": [],
   "source": [
    "#import pandas\n",
    "import pandas as pd "
   ]
  },
  {
   "cell_type": "code",
   "execution_count": 5,
   "id": "8b43ed33-8e77-4daf-8f4f-8e3092f23b92",
   "metadata": {},
   "outputs": [
    {
     "data": {
      "text/html": [
       "<div>\n",
       "<style scoped>\n",
       "    .dataframe tbody tr th:only-of-type {\n",
       "        vertical-align: middle;\n",
       "    }\n",
       "\n",
       "    .dataframe tbody tr th {\n",
       "        vertical-align: top;\n",
       "    }\n",
       "\n",
       "    .dataframe thead th {\n",
       "        text-align: right;\n",
       "    }\n",
       "</style>\n",
       "<table border=\"1\" class=\"dataframe\">\n",
       "  <thead>\n",
       "    <tr style=\"text-align: right;\">\n",
       "      <th></th>\n",
       "    </tr>\n",
       "  </thead>\n",
       "  <tbody>\n",
       "  </tbody>\n",
       "</table>\n",
       "</div>"
      ],
      "text/plain": [
       "Empty DataFrame\n",
       "Columns: []\n",
       "Index: []"
      ]
     },
     "execution_count": 5,
     "metadata": {},
     "output_type": "execute_result"
    }
   ],
   "source": [
    "pd.DataFrame()"
   ]
  },
  {
   "cell_type": "code",
   "execution_count": null,
   "id": "c27a0f73",
   "metadata": {
    "ExecuteTime": {
     "end_time": "2023-08-02T06:30:38.251870Z",
     "start_time": "2023-08-02T06:30:38.239551Z"
    }
   },
   "outputs": [],
   "source": [
    "#Load external file into jupyter notebook"
   ]
  },
  {
   "cell_type": "code",
   "execution_count": null,
   "id": "3d8720d7",
   "metadata": {
    "ExecuteTime": {
     "end_time": "2023-08-03T07:45:19.229085Z",
     "start_time": "2023-08-03T07:45:19.194716Z"
    }
   },
   "outputs": [],
   "source": [
    "pd.read_csv(\"bank.csv\")"
   ]
  },
  {
   "cell_type": "code",
   "execution_count": null,
   "id": "9319a08d",
   "metadata": {
    "ExecuteTime": {
     "end_time": "2023-08-03T07:49:12.825272Z",
     "start_time": "2023-08-03T07:49:12.257826Z"
    }
   },
   "outputs": [],
   "source": [
    "pd.read_csv(r\"C:\\Users\\ExcelR\\Desktop\\Datasets\\bank.csv\")"
   ]
  },
  {
   "cell_type": "code",
   "execution_count": null,
   "id": "5c4a818f",
   "metadata": {
    "ExecuteTime": {
     "end_time": "2023-08-03T08:04:27.371280Z",
     "start_time": "2023-08-03T08:04:27.339989Z"
    }
   },
   "outputs": [],
   "source": [
    "df = pd.read_csv('https://raw.githubusercontent.com/aishwaryamate/Datasets/main/Salaries.csv')\n",
    "df"
   ]
  },
  {
   "cell_type": "code",
   "execution_count": null,
   "id": "01a2a8b7",
   "metadata": {
    "ExecuteTime": {
     "end_time": "2023-08-02T06:30:38.267975Z",
     "start_time": "2023-08-02T06:30:38.254141Z"
    }
   },
   "outputs": [],
   "source": [
    "#Reading first 5 records"
   ]
  },
  {
   "cell_type": "code",
   "execution_count": null,
   "id": "6ab57896",
   "metadata": {
    "ExecuteTime": {
     "end_time": "2023-08-03T08:05:11.578984Z",
     "start_time": "2023-08-03T08:05:11.553756Z"
    }
   },
   "outputs": [],
   "source": [
    "df.head()"
   ]
  },
  {
   "cell_type": "code",
   "execution_count": null,
   "id": "4b4c1e97",
   "metadata": {
    "ExecuteTime": {
     "end_time": "2023-08-03T08:05:46.803334Z",
     "start_time": "2023-08-03T08:05:46.789695Z"
    }
   },
   "outputs": [],
   "source": [
    "df.tail()"
   ]
  },
  {
   "cell_type": "code",
   "execution_count": null,
   "id": "180b35ed",
   "metadata": {
    "ExecuteTime": {
     "end_time": "2023-08-02T06:30:38.283495Z",
     "start_time": "2023-08-02T06:30:38.271494Z"
    }
   },
   "outputs": [],
   "source": [
    "#Extracting only column names"
   ]
  },
  {
   "cell_type": "code",
   "execution_count": null,
   "id": "e1d51ad2",
   "metadata": {
    "ExecuteTime": {
     "end_time": "2023-08-03T08:06:43.230726Z",
     "start_time": "2023-08-03T08:06:43.222969Z"
    }
   },
   "outputs": [],
   "source": [
    "df.columns"
   ]
  },
  {
   "cell_type": "code",
   "execution_count": null,
   "id": "8e7f3643",
   "metadata": {
    "ExecuteTime": {
     "end_time": "2023-08-02T06:30:38.329105Z",
     "start_time": "2023-08-02T06:30:38.316710Z"
    }
   },
   "outputs": [],
   "source": [
    "#Extracting multiple columns from dataframe"
   ]
  },
  {
   "cell_type": "code",
   "execution_count": null,
   "id": "62fa12c8",
   "metadata": {
    "ExecuteTime": {
     "end_time": "2023-08-03T08:10:21.964192Z",
     "start_time": "2023-08-03T08:10:21.936015Z"
    }
   },
   "outputs": [],
   "source": [
    "df['rank']"
   ]
  },
  {
   "cell_type": "code",
   "execution_count": null,
   "id": "f4dd409b",
   "metadata": {
    "ExecuteTime": {
     "end_time": "2023-08-02T06:30:38.344347Z",
     "start_time": "2023-08-02T06:30:38.330603Z"
    }
   },
   "outputs": [],
   "source": [
    "#Descriptive stats for df"
   ]
  },
  {
   "cell_type": "code",
   "execution_count": null,
   "id": "17858d81",
   "metadata": {
    "ExecuteTime": {
     "end_time": "2023-08-03T08:12:02.045315Z",
     "start_time": "2023-08-03T08:12:02.032567Z"
    }
   },
   "outputs": [],
   "source": [
    "df.head()"
   ]
  },
  {
   "cell_type": "code",
   "execution_count": null,
   "id": "2ce49602",
   "metadata": {
    "ExecuteTime": {
     "end_time": "2023-08-03T08:12:23.753550Z",
     "start_time": "2023-08-03T08:12:23.701817Z"
    }
   },
   "outputs": [],
   "source": [
    "df.describe()"
   ]
  },
  {
   "cell_type": "code",
   "execution_count": null,
   "id": "a24a08b1",
   "metadata": {
    "ExecuteTime": {
     "end_time": "2023-08-03T08:20:15.255210Z",
     "start_time": "2023-08-03T08:20:15.214730Z"
    }
   },
   "outputs": [],
   "source": [
    "df.describe(include='all')"
   ]
  },
  {
   "cell_type": "code",
   "execution_count": null,
   "id": "dbddb12c",
   "metadata": {
    "ExecuteTime": {
     "end_time": "2023-08-03T08:21:13.664228Z",
     "start_time": "2023-08-03T08:21:13.620100Z"
    }
   },
   "outputs": [],
   "source": [
    "df.info()"
   ]
  },
  {
   "cell_type": "code",
   "execution_count": null,
   "id": "8a5946d4",
   "metadata": {
    "ExecuteTime": {
     "end_time": "2023-08-03T08:22:23.777863Z",
     "start_time": "2023-08-03T08:22:23.766517Z"
    }
   },
   "outputs": [],
   "source": [
    "df.dtypes"
   ]
  },
  {
   "cell_type": "code",
   "execution_count": null,
   "id": "45225a40",
   "metadata": {
    "ExecuteTime": {
     "end_time": "2023-08-03T08:26:26.453844Z",
     "start_time": "2023-08-03T08:26:26.420700Z"
    }
   },
   "outputs": [],
   "source": [
    "#Extract records from 30 to 35 from service to salary column\n",
    "\n",
    "df.loc[30:35,'service':'salary']"
   ]
  },
  {
   "cell_type": "code",
   "execution_count": null,
   "id": "8de82f53",
   "metadata": {
    "ExecuteTime": {
     "end_time": "2023-08-03T08:28:52.573956Z",
     "start_time": "2023-08-03T08:28:52.552703Z"
    }
   },
   "outputs": [],
   "source": [
    "df.iloc[30:36,3:6]"
   ]
  },
  {
   "cell_type": "code",
   "execution_count": null,
   "id": "392d0ff6",
   "metadata": {
    "ExecuteTime": {
     "end_time": "2023-08-02T06:30:38.420626Z",
     "start_time": "2023-08-02T06:30:38.412205Z"
    }
   },
   "outputs": [],
   "source": [
    "#unique Values and their frequency"
   ]
  },
  {
   "cell_type": "code",
   "execution_count": null,
   "id": "439be3b8",
   "metadata": {
    "ExecuteTime": {
     "end_time": "2023-08-03T08:35:49.493956Z",
     "start_time": "2023-08-03T08:35:49.480741Z"
    }
   },
   "outputs": [],
   "source": [
    "df['rank'].unique()"
   ]
  },
  {
   "cell_type": "code",
   "execution_count": null,
   "id": "e07e372f",
   "metadata": {
    "ExecuteTime": {
     "end_time": "2023-08-03T08:36:10.379183Z",
     "start_time": "2023-08-03T08:36:10.358251Z"
    }
   },
   "outputs": [],
   "source": [
    "df['gender'].unique()"
   ]
  },
  {
   "cell_type": "code",
   "execution_count": null,
   "id": "ed0f765e",
   "metadata": {
    "ExecuteTime": {
     "end_time": "2023-08-03T08:36:46.709441Z",
     "start_time": "2023-08-03T08:36:46.697795Z"
    }
   },
   "outputs": [],
   "source": [
    "df['rank'].nunique()"
   ]
  },
  {
   "cell_type": "code",
   "execution_count": null,
   "id": "935f8b4d",
   "metadata": {
    "ExecuteTime": {
     "end_time": "2023-08-03T08:37:27.776234Z",
     "start_time": "2023-08-03T08:37:27.762188Z"
    }
   },
   "outputs": [],
   "source": [
    "df['rank'].value_counts()"
   ]
  },
  {
   "cell_type": "markdown",
   "id": "e8cc9673",
   "metadata": {},
   "source": [
    "# Pandas Filtering and Groupby"
   ]
  },
  {
   "cell_type": "code",
   "execution_count": null,
   "id": "f0ab96d3",
   "metadata": {
    "ExecuteTime": {
     "end_time": "2023-08-03T08:51:09.430987Z",
     "start_time": "2023-08-03T08:51:09.411777Z"
    }
   },
   "outputs": [],
   "source": [
    "df.head()"
   ]
  },
  {
   "cell_type": "code",
   "execution_count": null,
   "id": "1ca61040",
   "metadata": {
    "ExecuteTime": {
     "end_time": "2023-08-02T06:30:38.436564Z",
     "start_time": "2023-08-02T06:30:38.426977Z"
    }
   },
   "outputs": [],
   "source": [
    "#Extract records where gender = female"
   ]
  },
  {
   "cell_type": "code",
   "execution_count": null,
   "id": "f6f00d36",
   "metadata": {
    "ExecuteTime": {
     "end_time": "2023-08-03T08:54:33.151495Z",
     "start_time": "2023-08-03T08:54:33.133230Z"
    }
   },
   "outputs": [],
   "source": [
    "df['gender'] == 'Female'"
   ]
  },
  {
   "cell_type": "code",
   "execution_count": null,
   "id": "e0166fb8",
   "metadata": {
    "ExecuteTime": {
     "end_time": "2023-08-03T08:56:09.939933Z",
     "start_time": "2023-08-03T08:56:09.919783Z"
    }
   },
   "outputs": [],
   "source": [
    "df[df['gender'] == 'Female'] #Masking"
   ]
  },
  {
   "cell_type": "code",
   "execution_count": null,
   "id": "6a2db1b7",
   "metadata": {
    "ExecuteTime": {
     "end_time": "2023-08-03T09:00:28.095801Z",
     "start_time": "2023-08-03T09:00:28.071609Z"
    }
   },
   "outputs": [],
   "source": [
    "#Gender is female and salary is greater than 150000\n",
    "\n",
    "df[(df['gender'] == \"Female\") & (df['salary'] > 150000)]"
   ]
  },
  {
   "cell_type": "code",
   "execution_count": null,
   "id": "73bc36d3",
   "metadata": {
    "ExecuteTime": {
     "end_time": "2023-08-03T09:01:51.440941Z",
     "start_time": "2023-08-03T09:01:51.413478Z"
    }
   },
   "outputs": [],
   "source": [
    "df[(df['gender'] == \"Female\") | (df['salary'] > 150000)]"
   ]
  },
  {
   "cell_type": "code",
   "execution_count": null,
   "id": "1dd9e63c",
   "metadata": {
    "ExecuteTime": {
     "end_time": "2023-08-02T06:30:38.471144Z",
     "start_time": "2023-08-02T06:30:38.460990Z"
    }
   },
   "outputs": [],
   "source": [
    "#What is the average salary of rank prof?"
   ]
  },
  {
   "cell_type": "code",
   "execution_count": null,
   "id": "b10d99ab",
   "metadata": {
    "ExecuteTime": {
     "end_time": "2023-08-03T09:03:20.937083Z",
     "start_time": "2023-08-03T09:03:20.917023Z"
    }
   },
   "outputs": [],
   "source": [
    "df[df['rank'] == 'Prof']"
   ]
  },
  {
   "cell_type": "code",
   "execution_count": null,
   "id": "1a0090f8",
   "metadata": {
    "ExecuteTime": {
     "end_time": "2023-08-03T09:05:00.397426Z",
     "start_time": "2023-08-03T09:05:00.390882Z"
    }
   },
   "outputs": [],
   "source": [
    "df[df['rank'] == 'Prof']['salary'].mean()"
   ]
  },
  {
   "cell_type": "code",
   "execution_count": null,
   "id": "1cb73322",
   "metadata": {
    "ExecuteTime": {
     "end_time": "2023-08-03T09:05:51.673666Z",
     "start_time": "2023-08-03T09:05:51.654893Z"
    }
   },
   "outputs": [],
   "source": [
    "#Average salary of prof rank and gender is Male"
   ]
  },
  {
   "cell_type": "code",
   "execution_count": null,
   "id": "12c87c1c",
   "metadata": {
    "ExecuteTime": {
     "end_time": "2023-08-03T09:06:40.078374Z",
     "start_time": "2023-08-03T09:06:40.068402Z"
    }
   },
   "outputs": [],
   "source": [
    "df[(df['rank'] == \"Prof\") & (df['gender'] == 'Female')]['salary'].mean()"
   ]
  },
  {
   "cell_type": "code",
   "execution_count": null,
   "id": "08db2163",
   "metadata": {
    "ExecuteTime": {
     "end_time": "2023-08-03T09:08:26.897958Z",
     "start_time": "2023-08-03T09:08:26.880030Z"
    }
   },
   "outputs": [],
   "source": [
    "print(df[df['rank'] == 'Prof']['salary'].mean())\n",
    "print(df[df['rank'] == 'AssocProf']['salary'].mean())\n",
    "print(df[df['rank'] == 'AsstProf']['salary'].mean())"
   ]
  },
  {
   "cell_type": "code",
   "execution_count": null,
   "id": "8aaad508",
   "metadata": {
    "ExecuteTime": {
     "end_time": "2023-08-02T06:30:38.502601Z",
     "start_time": "2023-08-02T06:30:38.490009Z"
    }
   },
   "outputs": [],
   "source": [
    "#Grouby aggregate method"
   ]
  },
  {
   "cell_type": "code",
   "execution_count": null,
   "id": "cd9bec33",
   "metadata": {
    "ExecuteTime": {
     "end_time": "2023-08-03T09:10:20.810594Z",
     "start_time": "2023-08-03T09:10:20.786361Z"
    }
   },
   "outputs": [],
   "source": [
    "df.groupby('rank')['salary'].mean()"
   ]
  },
  {
   "cell_type": "code",
   "execution_count": null,
   "id": "3ffe6bc3",
   "metadata": {
    "ExecuteTime": {
     "end_time": "2023-08-03T09:12:40.468396Z",
     "start_time": "2023-08-03T09:12:40.434435Z"
    }
   },
   "outputs": [],
   "source": [
    "df.groupby('rank')['salary'].agg({'mean','median','min','max'})"
   ]
  },
  {
   "cell_type": "markdown",
   "id": "0427f9a1",
   "metadata": {},
   "source": [
    "# Task"
   ]
  },
  {
   "cell_type": "code",
   "execution_count": null,
   "id": "dfd97807",
   "metadata": {
    "ExecuteTime": {
     "end_time": "2023-08-03T09:26:11.727427Z",
     "start_time": "2023-08-03T09:26:11.043563Z"
    }
   },
   "outputs": [],
   "source": [
    "df = pd.read_csv('https://raw.githubusercontent.com/aishwaryamate/Datasets/main/nba.csv')"
   ]
  },
  {
   "cell_type": "code",
   "execution_count": null,
   "id": "53b1cb12",
   "metadata": {
    "ExecuteTime": {
     "end_time": "2023-08-03T09:26:16.477376Z",
     "start_time": "2023-08-03T09:26:16.446273Z"
    }
   },
   "outputs": [],
   "source": [
    "df"
   ]
  },
  {
   "cell_type": "code",
   "execution_count": null,
   "id": "87068f70-bee6-4f81-bf59-a8e991a27c3c",
   "metadata": {
    "ExecuteTime": {
     "end_time": "2023-08-02T06:30:38.517729Z",
     "start_time": "2023-08-02T06:30:38.506605Z"
    }
   },
   "outputs": [],
   "source": [
    "# Extract the data where Team is boston celtics and Weight is less than 100\n",
    "#What is the avearge salary of players of team 'Los Angeles Lakers'.\n",
    "#What is the average salary of player based of various position?\n",
    "#Which players belong to San Diego State college.\n",
    "#Which player from Toronto Raptors team has the highest salary?"
   ]
  },
  {
   "cell_type": "code",
   "execution_count": null,
   "id": "cb64c752-248f-4c16-a95b-6f1053b7bfc5",
   "metadata": {},
   "outputs": [],
   "source": []
  }
 ],
 "metadata": {
  "kernelspec": {
   "display_name": "Python 3 (ipykernel)",
   "language": "python",
   "name": "python3"
  },
  "language_info": {
   "codemirror_mode": {
    "name": "ipython",
    "version": 3
   },
   "file_extension": ".py",
   "mimetype": "text/x-python",
   "name": "python",
   "nbconvert_exporter": "python",
   "pygments_lexer": "ipython3",
   "version": "3.12.4"
  }
 },
 "nbformat": 4,
 "nbformat_minor": 5
}
