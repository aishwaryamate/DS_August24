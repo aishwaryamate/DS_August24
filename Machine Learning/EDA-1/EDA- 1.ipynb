{
 "cells": [
  {
   "cell_type": "markdown",
   "id": "897196d8",
   "metadata": {},
   "source": [
    "# EDA (Exploratory Data Analysis)\n",
    "\n",
    "- Exploratory Data Analysis (EDA) is an approach to analyze the data using visual techniques and statistical techniques. It is used to discover trends, patterns, or to check assumptions with the help of statistical summary and graphical representations.\n",
    "\n",
    "**Steps involved in EDA**\n",
    "1. Describing the data\n",
    "2. Data cleaning\n",
    "3. Imputation techniques\n",
    "4. Data analysis and visualization\n",
    "5. Transformations"
   ]
  },
  {
   "cell_type": "markdown",
   "id": "e9885709",
   "metadata": {},
   "source": [
    "**Import data and data description**"
   ]
  },
  {
   "cell_type": "code",
   "execution_count": 1,
   "id": "9209ff70",
   "metadata": {
    "ExecuteTime": {
     "end_time": "2023-08-29T07:14:56.789034Z",
     "start_time": "2023-08-29T07:14:54.273171Z"
    }
   },
   "outputs": [],
   "source": [
    "import pandas as pd\n",
    "import numpy as np\n",
    "import matplotlib.pyplot as plt\n",
    "import seaborn as sns\n",
    "%matplotlib inline"
   ]
  },
  {
   "cell_type": "code",
   "execution_count": 7,
   "id": "d42b5dc7",
   "metadata": {
    "ExecuteTime": {
     "end_time": "2023-08-29T07:14:56.850847Z",
     "start_time": "2023-08-29T07:14:56.796109Z"
    }
   },
   "outputs": [
    {
     "data": {
      "text/html": [
       "<div>\n",
       "<style scoped>\n",
       "    .dataframe tbody tr th:only-of-type {\n",
       "        vertical-align: middle;\n",
       "    }\n",
       "\n",
       "    .dataframe tbody tr th {\n",
       "        vertical-align: top;\n",
       "    }\n",
       "\n",
       "    .dataframe thead th {\n",
       "        text-align: right;\n",
       "    }\n",
       "</style>\n",
       "<table border=\"1\" class=\"dataframe\">\n",
       "  <thead>\n",
       "    <tr style=\"text-align: right;\">\n",
       "      <th></th>\n",
       "      <th>Ozone</th>\n",
       "      <th>Solar.R</th>\n",
       "      <th>Wind</th>\n",
       "      <th>Month</th>\n",
       "      <th>Day</th>\n",
       "      <th>Year</th>\n",
       "      <th>Temp</th>\n",
       "      <th>Weather</th>\n",
       "    </tr>\n",
       "  </thead>\n",
       "  <tbody>\n",
       "    <tr>\n",
       "      <th>1</th>\n",
       "      <td>41.0</td>\n",
       "      <td>190.0</td>\n",
       "      <td>7.4</td>\n",
       "      <td>5</td>\n",
       "      <td>1</td>\n",
       "      <td>2010</td>\n",
       "      <td>67</td>\n",
       "      <td>S</td>\n",
       "    </tr>\n",
       "    <tr>\n",
       "      <th>2</th>\n",
       "      <td>36.0</td>\n",
       "      <td>118.0</td>\n",
       "      <td>8.0</td>\n",
       "      <td>5</td>\n",
       "      <td>2</td>\n",
       "      <td>2010</td>\n",
       "      <td>72</td>\n",
       "      <td>C</td>\n",
       "    </tr>\n",
       "    <tr>\n",
       "      <th>3</th>\n",
       "      <td>12.0</td>\n",
       "      <td>149.0</td>\n",
       "      <td>12.6</td>\n",
       "      <td>5</td>\n",
       "      <td>3</td>\n",
       "      <td>2010</td>\n",
       "      <td>74</td>\n",
       "      <td>PS</td>\n",
       "    </tr>\n",
       "    <tr>\n",
       "      <th>4</th>\n",
       "      <td>18.0</td>\n",
       "      <td>313.0</td>\n",
       "      <td>11.5</td>\n",
       "      <td>5</td>\n",
       "      <td>4</td>\n",
       "      <td>2010</td>\n",
       "      <td>62</td>\n",
       "      <td>S</td>\n",
       "    </tr>\n",
       "    <tr>\n",
       "      <th>5</th>\n",
       "      <td>NaN</td>\n",
       "      <td>NaN</td>\n",
       "      <td>14.3</td>\n",
       "      <td>5</td>\n",
       "      <td>5</td>\n",
       "      <td>2010</td>\n",
       "      <td>56</td>\n",
       "      <td>S</td>\n",
       "    </tr>\n",
       "    <tr>\n",
       "      <th>...</th>\n",
       "      <td>...</td>\n",
       "      <td>...</td>\n",
       "      <td>...</td>\n",
       "      <td>...</td>\n",
       "      <td>...</td>\n",
       "      <td>...</td>\n",
       "      <td>...</td>\n",
       "      <td>...</td>\n",
       "    </tr>\n",
       "    <tr>\n",
       "      <th>154</th>\n",
       "      <td>41.0</td>\n",
       "      <td>190.0</td>\n",
       "      <td>7.4</td>\n",
       "      <td>5</td>\n",
       "      <td>1</td>\n",
       "      <td>2010</td>\n",
       "      <td>67</td>\n",
       "      <td>C</td>\n",
       "    </tr>\n",
       "    <tr>\n",
       "      <th>155</th>\n",
       "      <td>30.0</td>\n",
       "      <td>193.0</td>\n",
       "      <td>6.9</td>\n",
       "      <td>9</td>\n",
       "      <td>26</td>\n",
       "      <td>2010</td>\n",
       "      <td>70</td>\n",
       "      <td>PS</td>\n",
       "    </tr>\n",
       "    <tr>\n",
       "      <th>156</th>\n",
       "      <td>NaN</td>\n",
       "      <td>145.0</td>\n",
       "      <td>13.2</td>\n",
       "      <td>9</td>\n",
       "      <td>27</td>\n",
       "      <td>2010</td>\n",
       "      <td>77</td>\n",
       "      <td>S</td>\n",
       "    </tr>\n",
       "    <tr>\n",
       "      <th>157</th>\n",
       "      <td>14.0</td>\n",
       "      <td>191.0</td>\n",
       "      <td>14.3</td>\n",
       "      <td>9</td>\n",
       "      <td>28</td>\n",
       "      <td>2010</td>\n",
       "      <td>75</td>\n",
       "      <td>S</td>\n",
       "    </tr>\n",
       "    <tr>\n",
       "      <th>158</th>\n",
       "      <td>18.0</td>\n",
       "      <td>131.0</td>\n",
       "      <td>8.0</td>\n",
       "      <td>9</td>\n",
       "      <td>29</td>\n",
       "      <td>2010</td>\n",
       "      <td>76</td>\n",
       "      <td>C</td>\n",
       "    </tr>\n",
       "  </tbody>\n",
       "</table>\n",
       "<p>158 rows × 8 columns</p>\n",
       "</div>"
      ],
      "text/plain": [
       "     Ozone  Solar.R  Wind Month  Day  Year  Temp Weather\n",
       "1     41.0    190.0   7.4     5    1  2010    67       S\n",
       "2     36.0    118.0   8.0     5    2  2010    72       C\n",
       "3     12.0    149.0  12.6     5    3  2010    74      PS\n",
       "4     18.0    313.0  11.5     5    4  2010    62       S\n",
       "5      NaN      NaN  14.3     5    5  2010    56       S\n",
       "..     ...      ...   ...   ...  ...   ...   ...     ...\n",
       "154   41.0    190.0   7.4     5    1  2010    67       C\n",
       "155   30.0    193.0   6.9     9   26  2010    70      PS\n",
       "156    NaN    145.0  13.2     9   27  2010    77       S\n",
       "157   14.0    191.0  14.3     9   28  2010    75       S\n",
       "158   18.0    131.0   8.0     9   29  2010    76       C\n",
       "\n",
       "[158 rows x 8 columns]"
      ]
     },
     "execution_count": 7,
     "metadata": {},
     "output_type": "execute_result"
    }
   ],
   "source": [
    "df = pd.read_csv('data_clean.csv', index_col=0)\n",
    "df"
   ]
  },
  {
   "cell_type": "code",
   "execution_count": 9,
   "id": "697602a6",
   "metadata": {
    "ExecuteTime": {
     "end_time": "2023-08-29T07:14:56.882272Z",
     "start_time": "2023-08-29T07:14:56.853094Z"
    }
   },
   "outputs": [
    {
     "data": {
      "text/html": [
       "<div>\n",
       "<style scoped>\n",
       "    .dataframe tbody tr th:only-of-type {\n",
       "        vertical-align: middle;\n",
       "    }\n",
       "\n",
       "    .dataframe tbody tr th {\n",
       "        vertical-align: top;\n",
       "    }\n",
       "\n",
       "    .dataframe thead th {\n",
       "        text-align: right;\n",
       "    }\n",
       "</style>\n",
       "<table border=\"1\" class=\"dataframe\">\n",
       "  <thead>\n",
       "    <tr style=\"text-align: right;\">\n",
       "      <th></th>\n",
       "      <th>Ozone</th>\n",
       "      <th>Solar.R</th>\n",
       "      <th>Wind</th>\n",
       "      <th>Day</th>\n",
       "      <th>Year</th>\n",
       "      <th>Temp</th>\n",
       "    </tr>\n",
       "  </thead>\n",
       "  <tbody>\n",
       "    <tr>\n",
       "      <th>count</th>\n",
       "      <td>120.000000</td>\n",
       "      <td>151.000000</td>\n",
       "      <td>158.000000</td>\n",
       "      <td>158.000000</td>\n",
       "      <td>158.0</td>\n",
       "      <td>158.000000</td>\n",
       "    </tr>\n",
       "    <tr>\n",
       "      <th>mean</th>\n",
       "      <td>41.583333</td>\n",
       "      <td>185.403974</td>\n",
       "      <td>9.957595</td>\n",
       "      <td>16.006329</td>\n",
       "      <td>2010.0</td>\n",
       "      <td>77.727848</td>\n",
       "    </tr>\n",
       "    <tr>\n",
       "      <th>std</th>\n",
       "      <td>32.620709</td>\n",
       "      <td>88.723103</td>\n",
       "      <td>3.511261</td>\n",
       "      <td>8.997166</td>\n",
       "      <td>0.0</td>\n",
       "      <td>9.377877</td>\n",
       "    </tr>\n",
       "    <tr>\n",
       "      <th>min</th>\n",
       "      <td>1.000000</td>\n",
       "      <td>7.000000</td>\n",
       "      <td>1.700000</td>\n",
       "      <td>1.000000</td>\n",
       "      <td>2010.0</td>\n",
       "      <td>56.000000</td>\n",
       "    </tr>\n",
       "    <tr>\n",
       "      <th>25%</th>\n",
       "      <td>18.000000</td>\n",
       "      <td>119.000000</td>\n",
       "      <td>7.400000</td>\n",
       "      <td>8.000000</td>\n",
       "      <td>2010.0</td>\n",
       "      <td>72.000000</td>\n",
       "    </tr>\n",
       "    <tr>\n",
       "      <th>50%</th>\n",
       "      <td>30.500000</td>\n",
       "      <td>197.000000</td>\n",
       "      <td>9.700000</td>\n",
       "      <td>16.000000</td>\n",
       "      <td>2010.0</td>\n",
       "      <td>78.500000</td>\n",
       "    </tr>\n",
       "    <tr>\n",
       "      <th>75%</th>\n",
       "      <td>61.500000</td>\n",
       "      <td>257.000000</td>\n",
       "      <td>11.875000</td>\n",
       "      <td>24.000000</td>\n",
       "      <td>2010.0</td>\n",
       "      <td>84.000000</td>\n",
       "    </tr>\n",
       "    <tr>\n",
       "      <th>max</th>\n",
       "      <td>168.000000</td>\n",
       "      <td>334.000000</td>\n",
       "      <td>20.700000</td>\n",
       "      <td>31.000000</td>\n",
       "      <td>2010.0</td>\n",
       "      <td>97.000000</td>\n",
       "    </tr>\n",
       "  </tbody>\n",
       "</table>\n",
       "</div>"
      ],
      "text/plain": [
       "            Ozone     Solar.R        Wind         Day    Year        Temp\n",
       "count  120.000000  151.000000  158.000000  158.000000   158.0  158.000000\n",
       "mean    41.583333  185.403974    9.957595   16.006329  2010.0   77.727848\n",
       "std     32.620709   88.723103    3.511261    8.997166     0.0    9.377877\n",
       "min      1.000000    7.000000    1.700000    1.000000  2010.0   56.000000\n",
       "25%     18.000000  119.000000    7.400000    8.000000  2010.0   72.000000\n",
       "50%     30.500000  197.000000    9.700000   16.000000  2010.0   78.500000\n",
       "75%     61.500000  257.000000   11.875000   24.000000  2010.0   84.000000\n",
       "max    168.000000  334.000000   20.700000   31.000000  2010.0   97.000000"
      ]
     },
     "execution_count": 9,
     "metadata": {},
     "output_type": "execute_result"
    }
   ],
   "source": [
    "df.describe()"
   ]
  },
  {
   "cell_type": "code",
   "execution_count": 13,
   "id": "89551b92-b017-42ee-9e58-96a69c5deb0c",
   "metadata": {},
   "outputs": [
    {
     "data": {
      "text/html": [
       "<div>\n",
       "<style scoped>\n",
       "    .dataframe tbody tr th:only-of-type {\n",
       "        vertical-align: middle;\n",
       "    }\n",
       "\n",
       "    .dataframe tbody tr th {\n",
       "        vertical-align: top;\n",
       "    }\n",
       "\n",
       "    .dataframe thead th {\n",
       "        text-align: right;\n",
       "    }\n",
       "</style>\n",
       "<table border=\"1\" class=\"dataframe\">\n",
       "  <thead>\n",
       "    <tr style=\"text-align: right;\">\n",
       "      <th></th>\n",
       "      <th>Ozone</th>\n",
       "      <th>Solar.R</th>\n",
       "      <th>Wind</th>\n",
       "      <th>Month</th>\n",
       "      <th>Day</th>\n",
       "      <th>Year</th>\n",
       "      <th>Temp</th>\n",
       "      <th>Weather</th>\n",
       "    </tr>\n",
       "  </thead>\n",
       "  <tbody>\n",
       "    <tr>\n",
       "      <th>1</th>\n",
       "      <td>41.0</td>\n",
       "      <td>190.0</td>\n",
       "      <td>7.4</td>\n",
       "      <td>5</td>\n",
       "      <td>1</td>\n",
       "      <td>2010</td>\n",
       "      <td>67</td>\n",
       "      <td>S</td>\n",
       "    </tr>\n",
       "    <tr>\n",
       "      <th>2</th>\n",
       "      <td>36.0</td>\n",
       "      <td>118.0</td>\n",
       "      <td>8.0</td>\n",
       "      <td>5</td>\n",
       "      <td>2</td>\n",
       "      <td>2010</td>\n",
       "      <td>72</td>\n",
       "      <td>C</td>\n",
       "    </tr>\n",
       "    <tr>\n",
       "      <th>3</th>\n",
       "      <td>12.0</td>\n",
       "      <td>149.0</td>\n",
       "      <td>12.6</td>\n",
       "      <td>5</td>\n",
       "      <td>3</td>\n",
       "      <td>2010</td>\n",
       "      <td>74</td>\n",
       "      <td>PS</td>\n",
       "    </tr>\n",
       "    <tr>\n",
       "      <th>4</th>\n",
       "      <td>18.0</td>\n",
       "      <td>313.0</td>\n",
       "      <td>11.5</td>\n",
       "      <td>5</td>\n",
       "      <td>4</td>\n",
       "      <td>2010</td>\n",
       "      <td>62</td>\n",
       "      <td>S</td>\n",
       "    </tr>\n",
       "    <tr>\n",
       "      <th>5</th>\n",
       "      <td>NaN</td>\n",
       "      <td>NaN</td>\n",
       "      <td>14.3</td>\n",
       "      <td>5</td>\n",
       "      <td>5</td>\n",
       "      <td>2010</td>\n",
       "      <td>56</td>\n",
       "      <td>S</td>\n",
       "    </tr>\n",
       "  </tbody>\n",
       "</table>\n",
       "</div>"
      ],
      "text/plain": [
       "   Ozone  Solar.R  Wind Month  Day  Year  Temp Weather\n",
       "1   41.0    190.0   7.4     5    1  2010    67       S\n",
       "2   36.0    118.0   8.0     5    2  2010    72       C\n",
       "3   12.0    149.0  12.6     5    3  2010    74      PS\n",
       "4   18.0    313.0  11.5     5    4  2010    62       S\n",
       "5    NaN      NaN  14.3     5    5  2010    56       S"
      ]
     },
     "execution_count": 13,
     "metadata": {},
     "output_type": "execute_result"
    }
   ],
   "source": [
    "df.head()"
   ]
  },
  {
   "cell_type": "code",
   "execution_count": 11,
   "id": "766b5a7e",
   "metadata": {
    "ExecuteTime": {
     "end_time": "2023-08-29T07:14:56.913383Z",
     "start_time": "2023-08-29T07:14:56.900245Z"
    }
   },
   "outputs": [
    {
     "data": {
      "text/plain": [
       "Ozone      float64\n",
       "Solar.R    float64\n",
       "Wind       float64\n",
       "Month       object\n",
       "Day          int64\n",
       "Year         int64\n",
       "Temp         int64\n",
       "Weather     object\n",
       "dtype: object"
      ]
     },
     "execution_count": 11,
     "metadata": {},
     "output_type": "execute_result"
    }
   ],
   "source": [
    "df.dtypes"
   ]
  },
  {
   "cell_type": "code",
   "execution_count": null,
   "id": "51e9644e",
   "metadata": {
    "ExecuteTime": {
     "end_time": "2023-08-29T07:14:56.935575Z",
     "start_time": "2023-08-29T07:14:56.914870Z"
    }
   },
   "outputs": [],
   "source": [
    "df.info()"
   ]
  },
  {
   "cell_type": "markdown",
   "id": "862429bf",
   "metadata": {},
   "source": [
    "- As we can see that,\n",
    "- 'Month' column has all the numeric data still python has shown us that it is object.\n",
    "- We will have to find out the reason and change the data type of the column."
   ]
  },
  {
   "cell_type": "markdown",
   "id": "dbcea150",
   "metadata": {},
   "source": [
    "# **Data type conversion**"
   ]
  },
  {
   "cell_type": "code",
   "execution_count": 15,
   "id": "4378858c",
   "metadata": {
    "ExecuteTime": {
     "end_time": "2023-08-29T07:14:56.951052Z",
     "start_time": "2023-08-29T07:14:56.938182Z"
    }
   },
   "outputs": [
    {
     "data": {
      "text/plain": [
       "1      5\n",
       "2      5\n",
       "3      5\n",
       "4      5\n",
       "5      5\n",
       "      ..\n",
       "154    5\n",
       "155    9\n",
       "156    9\n",
       "157    9\n",
       "158    9\n",
       "Name: Month, Length: 158, dtype: object"
      ]
     },
     "execution_count": 15,
     "metadata": {},
     "output_type": "execute_result"
    }
   ],
   "source": [
    "df['Month']"
   ]
  },
  {
   "cell_type": "code",
   "execution_count": 17,
   "id": "90cd7ea3",
   "metadata": {
    "ExecuteTime": {
     "end_time": "2023-08-29T07:14:56.966242Z",
     "start_time": "2023-08-29T07:14:56.953587Z"
    }
   },
   "outputs": [
    {
     "data": {
      "text/plain": [
       "array(['5', 'May', '6', '7', '8', '9'], dtype=object)"
      ]
     },
     "execution_count": 17,
     "metadata": {},
     "output_type": "execute_result"
    }
   ],
   "source": [
    "df['Month'].unique()"
   ]
  },
  {
   "cell_type": "code",
   "execution_count": 19,
   "id": "fe5f2d05",
   "metadata": {
    "ExecuteTime": {
     "end_time": "2023-08-29T07:14:56.982244Z",
     "start_time": "2023-08-29T07:14:56.968060Z"
    }
   },
   "outputs": [],
   "source": [
    "df['Month'].replace('May',5,inplace=True)"
   ]
  },
  {
   "cell_type": "code",
   "execution_count": 21,
   "id": "f9e380c6",
   "metadata": {
    "ExecuteTime": {
     "end_time": "2023-08-29T07:14:57.012845Z",
     "start_time": "2023-08-29T07:14:56.993628Z"
    }
   },
   "outputs": [
    {
     "data": {
      "text/plain": [
       "array(['5', 5, '6', '7', '8', '9'], dtype=object)"
      ]
     },
     "execution_count": 21,
     "metadata": {},
     "output_type": "execute_result"
    }
   ],
   "source": [
    "df['Month'].unique()"
   ]
  },
  {
   "cell_type": "code",
   "execution_count": 23,
   "id": "ca3bffb0",
   "metadata": {
    "ExecuteTime": {
     "end_time": "2023-08-29T07:14:57.028224Z",
     "start_time": "2023-08-29T07:14:57.014965Z"
    }
   },
   "outputs": [
    {
     "data": {
      "text/plain": [
       "Ozone      float64\n",
       "Solar.R    float64\n",
       "Wind       float64\n",
       "Month       object\n",
       "Day          int64\n",
       "Year         int64\n",
       "Temp         int64\n",
       "Weather     object\n",
       "dtype: object"
      ]
     },
     "execution_count": 23,
     "metadata": {},
     "output_type": "execute_result"
    }
   ],
   "source": [
    "df.dtypes"
   ]
  },
  {
   "cell_type": "code",
   "execution_count": 31,
   "id": "064155df",
   "metadata": {
    "ExecuteTime": {
     "end_time": "2023-08-29T07:14:57.043580Z",
     "start_time": "2023-08-29T07:14:57.029244Z"
    }
   },
   "outputs": [
    {
     "data": {
      "text/plain": [
       "1      5\n",
       "2      5\n",
       "3      5\n",
       "4      5\n",
       "5      5\n",
       "      ..\n",
       "154    5\n",
       "155    9\n",
       "156    9\n",
       "157    9\n",
       "158    9\n",
       "Name: Month, Length: 158, dtype: int32"
      ]
     },
     "execution_count": 31,
     "metadata": {},
     "output_type": "execute_result"
    }
   ],
   "source": [
    "df['Month'].astype(int)"
   ]
  },
  {
   "cell_type": "code",
   "execution_count": 41,
   "id": "01ea769e",
   "metadata": {
    "ExecuteTime": {
     "end_time": "2023-08-29T07:14:57.059231Z",
     "start_time": "2023-08-29T07:14:57.045532Z"
    }
   },
   "outputs": [],
   "source": [
    "df['Month'] = df['Month'].astype(int)"
   ]
  },
  {
   "cell_type": "code",
   "execution_count": 43,
   "id": "abfd9ce0",
   "metadata": {
    "ExecuteTime": {
     "end_time": "2023-08-29T07:14:57.089629Z",
     "start_time": "2023-08-29T07:14:57.065333Z"
    }
   },
   "outputs": [
    {
     "data": {
      "text/plain": [
       "Ozone      float64\n",
       "Solar.R    float64\n",
       "Wind       float64\n",
       "Month        int32\n",
       "Day          int64\n",
       "Year         int64\n",
       "Temp         int64\n",
       "Weather     object\n",
       "dtype: object"
      ]
     },
     "execution_count": 43,
     "metadata": {},
     "output_type": "execute_result"
    }
   ],
   "source": [
    "df.dtypes"
   ]
  },
  {
   "cell_type": "code",
   "execution_count": 45,
   "id": "d9abedde",
   "metadata": {
    "ExecuteTime": {
     "end_time": "2023-08-29T07:14:57.121543Z",
     "start_time": "2023-08-29T07:14:57.097117Z"
    }
   },
   "outputs": [
    {
     "data": {
      "text/html": [
       "<div>\n",
       "<style scoped>\n",
       "    .dataframe tbody tr th:only-of-type {\n",
       "        vertical-align: middle;\n",
       "    }\n",
       "\n",
       "    .dataframe tbody tr th {\n",
       "        vertical-align: top;\n",
       "    }\n",
       "\n",
       "    .dataframe thead th {\n",
       "        text-align: right;\n",
       "    }\n",
       "</style>\n",
       "<table border=\"1\" class=\"dataframe\">\n",
       "  <thead>\n",
       "    <tr style=\"text-align: right;\">\n",
       "      <th></th>\n",
       "      <th>Ozone</th>\n",
       "      <th>Solar.R</th>\n",
       "      <th>Wind</th>\n",
       "      <th>Month</th>\n",
       "      <th>Day</th>\n",
       "      <th>Year</th>\n",
       "      <th>Temp</th>\n",
       "      <th>Weather</th>\n",
       "    </tr>\n",
       "  </thead>\n",
       "  <tbody>\n",
       "    <tr>\n",
       "      <th>1</th>\n",
       "      <td>41.0</td>\n",
       "      <td>190.0</td>\n",
       "      <td>7.4</td>\n",
       "      <td>5</td>\n",
       "      <td>1</td>\n",
       "      <td>2010</td>\n",
       "      <td>67</td>\n",
       "      <td>S</td>\n",
       "    </tr>\n",
       "    <tr>\n",
       "      <th>2</th>\n",
       "      <td>36.0</td>\n",
       "      <td>118.0</td>\n",
       "      <td>8.0</td>\n",
       "      <td>5</td>\n",
       "      <td>2</td>\n",
       "      <td>2010</td>\n",
       "      <td>72</td>\n",
       "      <td>C</td>\n",
       "    </tr>\n",
       "    <tr>\n",
       "      <th>3</th>\n",
       "      <td>12.0</td>\n",
       "      <td>149.0</td>\n",
       "      <td>12.6</td>\n",
       "      <td>5</td>\n",
       "      <td>3</td>\n",
       "      <td>2010</td>\n",
       "      <td>74</td>\n",
       "      <td>PS</td>\n",
       "    </tr>\n",
       "    <tr>\n",
       "      <th>4</th>\n",
       "      <td>18.0</td>\n",
       "      <td>313.0</td>\n",
       "      <td>11.5</td>\n",
       "      <td>5</td>\n",
       "      <td>4</td>\n",
       "      <td>2010</td>\n",
       "      <td>62</td>\n",
       "      <td>S</td>\n",
       "    </tr>\n",
       "    <tr>\n",
       "      <th>5</th>\n",
       "      <td>NaN</td>\n",
       "      <td>NaN</td>\n",
       "      <td>14.3</td>\n",
       "      <td>5</td>\n",
       "      <td>5</td>\n",
       "      <td>2010</td>\n",
       "      <td>56</td>\n",
       "      <td>S</td>\n",
       "    </tr>\n",
       "    <tr>\n",
       "      <th>...</th>\n",
       "      <td>...</td>\n",
       "      <td>...</td>\n",
       "      <td>...</td>\n",
       "      <td>...</td>\n",
       "      <td>...</td>\n",
       "      <td>...</td>\n",
       "      <td>...</td>\n",
       "      <td>...</td>\n",
       "    </tr>\n",
       "    <tr>\n",
       "      <th>154</th>\n",
       "      <td>41.0</td>\n",
       "      <td>190.0</td>\n",
       "      <td>7.4</td>\n",
       "      <td>5</td>\n",
       "      <td>1</td>\n",
       "      <td>2010</td>\n",
       "      <td>67</td>\n",
       "      <td>C</td>\n",
       "    </tr>\n",
       "    <tr>\n",
       "      <th>155</th>\n",
       "      <td>30.0</td>\n",
       "      <td>193.0</td>\n",
       "      <td>6.9</td>\n",
       "      <td>9</td>\n",
       "      <td>26</td>\n",
       "      <td>2010</td>\n",
       "      <td>70</td>\n",
       "      <td>PS</td>\n",
       "    </tr>\n",
       "    <tr>\n",
       "      <th>156</th>\n",
       "      <td>NaN</td>\n",
       "      <td>145.0</td>\n",
       "      <td>13.2</td>\n",
       "      <td>9</td>\n",
       "      <td>27</td>\n",
       "      <td>2010</td>\n",
       "      <td>77</td>\n",
       "      <td>S</td>\n",
       "    </tr>\n",
       "    <tr>\n",
       "      <th>157</th>\n",
       "      <td>14.0</td>\n",
       "      <td>191.0</td>\n",
       "      <td>14.3</td>\n",
       "      <td>9</td>\n",
       "      <td>28</td>\n",
       "      <td>2010</td>\n",
       "      <td>75</td>\n",
       "      <td>S</td>\n",
       "    </tr>\n",
       "    <tr>\n",
       "      <th>158</th>\n",
       "      <td>18.0</td>\n",
       "      <td>131.0</td>\n",
       "      <td>8.0</td>\n",
       "      <td>9</td>\n",
       "      <td>29</td>\n",
       "      <td>2010</td>\n",
       "      <td>76</td>\n",
       "      <td>C</td>\n",
       "    </tr>\n",
       "  </tbody>\n",
       "</table>\n",
       "<p>158 rows × 8 columns</p>\n",
       "</div>"
      ],
      "text/plain": [
       "     Ozone  Solar.R  Wind  Month  Day  Year  Temp Weather\n",
       "1     41.0    190.0   7.4      5    1  2010    67       S\n",
       "2     36.0    118.0   8.0      5    2  2010    72       C\n",
       "3     12.0    149.0  12.6      5    3  2010    74      PS\n",
       "4     18.0    313.0  11.5      5    4  2010    62       S\n",
       "5      NaN      NaN  14.3      5    5  2010    56       S\n",
       "..     ...      ...   ...    ...  ...   ...   ...     ...\n",
       "154   41.0    190.0   7.4      5    1  2010    67       C\n",
       "155   30.0    193.0   6.9      9   26  2010    70      PS\n",
       "156    NaN    145.0  13.2      9   27  2010    77       S\n",
       "157   14.0    191.0  14.3      9   28  2010    75       S\n",
       "158   18.0    131.0   8.0      9   29  2010    76       C\n",
       "\n",
       "[158 rows x 8 columns]"
      ]
     },
     "execution_count": 45,
     "metadata": {},
     "output_type": "execute_result"
    }
   ],
   "source": [
    "df"
   ]
  },
  {
   "cell_type": "markdown",
   "id": "23cb4627",
   "metadata": {},
   "source": [
    "# Duplicates"
   ]
  },
  {
   "cell_type": "code",
   "execution_count": null,
   "id": "365599de",
   "metadata": {
    "ExecuteTime": {
     "end_time": "2023-08-29T07:14:57.137737Z",
     "start_time": "2023-08-29T07:14:57.124543Z"
    }
   },
   "outputs": [],
   "source": [
    "df.duplicated()"
   ]
  },
  {
   "cell_type": "code",
   "execution_count": null,
   "id": "64bdc544",
   "metadata": {
    "ExecuteTime": {
     "end_time": "2023-08-29T07:14:57.153052Z",
     "start_time": "2023-08-29T07:14:57.140053Z"
    }
   },
   "outputs": [],
   "source": [
    "df.duplicated().sum()"
   ]
  },
  {
   "cell_type": "code",
   "execution_count": null,
   "id": "70a8f03f",
   "metadata": {
    "ExecuteTime": {
     "end_time": "2023-08-29T07:14:57.245631Z",
     "start_time": "2023-08-29T07:14:57.232388Z"
    }
   },
   "outputs": [],
   "source": [
    "#Drop Duplicated records"
   ]
  },
  {
   "cell_type": "code",
   "execution_count": null,
   "id": "5152f363",
   "metadata": {
    "ExecuteTime": {
     "end_time": "2023-08-29T07:14:57.272918Z",
     "start_time": "2023-08-29T07:14:57.253786Z"
    }
   },
   "outputs": [],
   "source": [
    "df.drop_duplicates(inplace=True)"
   ]
  },
  {
   "cell_type": "code",
   "execution_count": null,
   "id": "bc397cb4",
   "metadata": {
    "ExecuteTime": {
     "end_time": "2023-08-29T07:14:57.283157Z",
     "start_time": "2023-08-29T07:14:57.275922Z"
    }
   },
   "outputs": [],
   "source": [
    "df.shape"
   ]
  },
  {
   "cell_type": "code",
   "execution_count": null,
   "id": "0cdb69f1",
   "metadata": {
    "ExecuteTime": {
     "end_time": "2023-08-29T07:14:57.298600Z",
     "start_time": "2023-08-29T07:14:57.286805Z"
    }
   },
   "outputs": [],
   "source": [
    "df.duplicated().sum()"
   ]
  },
  {
   "cell_type": "markdown",
   "id": "cb57c9c7",
   "metadata": {},
   "source": [
    "# Drop columns"
   ]
  },
  {
   "cell_type": "markdown",
   "id": "bb74fc55",
   "metadata": {},
   "source": [
    "- There is one column which only has single different value.\n",
    "- We need to get rid of all the uneccesary columns or else it will be very complex data."
   ]
  },
  {
   "cell_type": "code",
   "execution_count": null,
   "id": "efb5e5e3",
   "metadata": {
    "ExecuteTime": {
     "end_time": "2023-08-29T07:14:57.314061Z",
     "start_time": "2023-08-29T07:14:57.300623Z"
    }
   },
   "outputs": [],
   "source": [
    "df.head()"
   ]
  },
  {
   "cell_type": "code",
   "execution_count": null,
   "id": "79b23168",
   "metadata": {
    "ExecuteTime": {
     "end_time": "2023-08-29T07:14:57.329642Z",
     "start_time": "2023-08-29T07:14:57.316130Z"
    }
   },
   "outputs": [],
   "source": [
    "df.drop(columns=['Year'],inplace=True)"
   ]
  },
  {
   "cell_type": "code",
   "execution_count": null,
   "id": "aaa5bb40",
   "metadata": {
    "ExecuteTime": {
     "end_time": "2023-08-29T07:14:57.360591Z",
     "start_time": "2023-08-29T07:14:57.336717Z"
    }
   },
   "outputs": [],
   "source": [
    "df"
   ]
  },
  {
   "cell_type": "markdown",
   "id": "98b5b4db",
   "metadata": {},
   "source": [
    "# Rename the columns"
   ]
  },
  {
   "cell_type": "code",
   "execution_count": null,
   "id": "9e1b6a8b",
   "metadata": {
    "ExecuteTime": {
     "end_time": "2023-08-29T07:14:57.500971Z",
     "start_time": "2023-08-29T07:14:57.487430Z"
    }
   },
   "outputs": [],
   "source": [
    "df.head()"
   ]
  },
  {
   "cell_type": "code",
   "execution_count": null,
   "id": "907d9445",
   "metadata": {
    "ExecuteTime": {
     "end_time": "2023-08-29T07:14:57.516519Z",
     "start_time": "2023-08-29T07:14:57.503138Z"
    }
   },
   "outputs": [],
   "source": [
    "df.rename(columns={'Solar.R':'Solar','Temp':'Temperature'},inplace=True)"
   ]
  },
  {
   "cell_type": "code",
   "execution_count": null,
   "id": "618f8c5a",
   "metadata": {
    "ExecuteTime": {
     "end_time": "2023-08-29T07:14:57.531639Z",
     "start_time": "2023-08-29T07:14:57.518049Z"
    }
   },
   "outputs": [],
   "source": [
    "df"
   ]
  },
  {
   "cell_type": "markdown",
   "id": "299137da",
   "metadata": {},
   "source": [
    "# Missing value imputation\n",
    "\n",
    "- In dataset, missing data, or missing values, occur when no data value is stored for the variable in an observation.\n",
    "- Missing data are a common occurrence and can have a significant effect on the conclusions that can be drawn from the data.\n",
    "- If we don't impute or handle null values, we will not be able to create a machine learning model as python does not understand missing values.\n",
    "- Handling missing values is a crucial step in EDA.\n",
    "- Missing values can appear for several reasons like:\n",
    "    - Incomplete data entry\n",
    "    - Issues with machines\n",
    "    - Improper handling of data\n",
    "    - And many more.\n",
    "         "
   ]
  },
  {
   "cell_type": "code",
   "execution_count": null,
   "id": "54304830",
   "metadata": {
    "ExecuteTime": {
     "end_time": "2023-08-29T07:14:57.537989Z",
     "start_time": "2023-08-29T07:14:57.532983Z"
    }
   },
   "outputs": [],
   "source": [
    "#Checking null values"
   ]
  },
  {
   "cell_type": "code",
   "execution_count": null,
   "id": "aace4c77",
   "metadata": {
    "ExecuteTime": {
     "end_time": "2023-08-29T07:14:57.569746Z",
     "start_time": "2023-08-29T07:14:57.540413Z"
    }
   },
   "outputs": [],
   "source": [
    "df"
   ]
  },
  {
   "cell_type": "code",
   "execution_count": null,
   "id": "4d799146",
   "metadata": {
    "ExecuteTime": {
     "end_time": "2023-08-29T07:14:57.601010Z",
     "start_time": "2023-08-29T07:14:57.573222Z"
    }
   },
   "outputs": [],
   "source": [
    "df.isna()"
   ]
  },
  {
   "cell_type": "code",
   "execution_count": null,
   "id": "c6212fdf",
   "metadata": {
    "ExecuteTime": {
     "end_time": "2023-08-29T07:14:57.623381Z",
     "start_time": "2023-08-29T07:14:57.603528Z"
    }
   },
   "outputs": [],
   "source": [
    "df.isna().sum()"
   ]
  },
  {
   "cell_type": "code",
   "execution_count": null,
   "id": "5486e963",
   "metadata": {
    "ExecuteTime": {
     "end_time": "2023-08-29T07:14:58.119182Z",
     "start_time": "2023-08-29T07:14:58.106036Z"
    }
   },
   "outputs": [],
   "source": [
    "df.isna().sum()"
   ]
  },
  {
   "cell_type": "code",
   "execution_count": null,
   "id": "2ddfbed1",
   "metadata": {
    "ExecuteTime": {
     "end_time": "2023-08-29T07:14:58.134771Z",
     "start_time": "2023-08-29T07:14:58.121624Z"
    }
   },
   "outputs": [],
   "source": [
    "#Calculate the percentage of missig values in each column.\n",
    "for i in df.isna().sum():\n",
    "    print((i/len(df))*100)"
   ]
  },
  {
   "cell_type": "markdown",
   "id": "fe6b143b",
   "metadata": {
    "ExecuteTime": {
     "end_time": "2023-08-28T05:27:49.400108Z",
     "start_time": "2023-08-28T05:27:49.382221Z"
    }
   },
   "source": [
    "# Rule for missing value imputation:\n",
    "1. If NA values are between 1 to 5%, drop na (rows)\n",
    "2. If NA value are 5 to 40%, fillna(replace)\n",
    "3. If NA values are greater than 50% in a column, drop that entire column."
   ]
  },
  {
   "cell_type": "code",
   "execution_count": null,
   "id": "80b0c33c",
   "metadata": {
    "ExecuteTime": {
     "end_time": "2023-08-29T07:14:58.150043Z",
     "start_time": "2023-08-29T07:14:58.136854Z"
    }
   },
   "outputs": [],
   "source": [
    "df.head()"
   ]
  },
  {
   "cell_type": "code",
   "execution_count": null,
   "id": "94f716f0",
   "metadata": {
    "ExecuteTime": {
     "end_time": "2023-08-29T07:14:59.078167Z",
     "start_time": "2023-08-29T07:14:59.064976Z"
    }
   },
   "outputs": [],
   "source": [
    "ozone_median = df['Ozone'].median()"
   ]
  },
  {
   "cell_type": "code",
   "execution_count": null,
   "id": "5268196e",
   "metadata": {
    "ExecuteTime": {
     "end_time": "2023-08-29T07:14:59.093890Z",
     "start_time": "2023-08-29T07:14:59.080444Z"
    }
   },
   "outputs": [],
   "source": [
    "df['Ozone'].fillna(ozone_median, inplace=True)"
   ]
  },
  {
   "cell_type": "code",
   "execution_count": null,
   "id": "3b806d4d",
   "metadata": {
    "ExecuteTime": {
     "end_time": "2023-08-29T07:14:59.109044Z",
     "start_time": "2023-08-29T07:14:59.096045Z"
    }
   },
   "outputs": [],
   "source": [
    "df['Solar'].fillna(df['Solar'].mean(), inplace=True)"
   ]
  },
  {
   "cell_type": "code",
   "execution_count": null,
   "id": "faccf819",
   "metadata": {
    "ExecuteTime": {
     "end_time": "2023-08-29T07:14:59.124510Z",
     "start_time": "2023-08-29T07:14:59.110866Z"
    }
   },
   "outputs": [],
   "source": [
    "df['Weather'].mode()[0]"
   ]
  },
  {
   "cell_type": "code",
   "execution_count": null,
   "id": "50ca90aa",
   "metadata": {
    "ExecuteTime": {
     "end_time": "2023-08-29T07:14:59.140550Z",
     "start_time": "2023-08-29T07:14:59.126626Z"
    }
   },
   "outputs": [],
   "source": [
    "df['Weather'].fillna(df['Weather'].mode()[0], inplace=True)"
   ]
  },
  {
   "cell_type": "code",
   "execution_count": null,
   "id": "8c72861c",
   "metadata": {
    "ExecuteTime": {
     "end_time": "2023-08-29T07:14:59.156408Z",
     "start_time": "2023-08-29T07:14:59.143056Z"
    }
   },
   "outputs": [],
   "source": [
    "df.isna().sum()"
   ]
  },
  {
   "cell_type": "markdown",
   "id": "30c12e7c",
   "metadata": {},
   "source": [
    "# Outlier detection"
   ]
  },
  {
   "cell_type": "markdown",
   "id": "e1b2cdce",
   "metadata": {},
   "source": [
    "- There are multiple approaches to detect outliers in the dataset.\n",
    "    - Histogram\n",
    "    - Boxplot\n",
    "    - Descriptive stats for df"
   ]
  },
  {
   "cell_type": "code",
   "execution_count": null,
   "id": "7cd29d48",
   "metadata": {
    "ExecuteTime": {
     "end_time": "2023-08-29T07:14:59.195364Z",
     "start_time": "2023-08-29T07:14:59.158948Z"
    }
   },
   "outputs": [],
   "source": [
    "df.describe()"
   ]
  },
  {
   "cell_type": "code",
   "execution_count": null,
   "id": "635bf215",
   "metadata": {
    "ExecuteTime": {
     "end_time": "2023-08-29T07:15:00.079322Z",
     "start_time": "2023-08-29T07:14:59.203237Z"
    }
   },
   "outputs": [],
   "source": [
    "df.boxplot()"
   ]
  },
  {
   "cell_type": "code",
   "execution_count": null,
   "id": "5964472e",
   "metadata": {
    "ExecuteTime": {
     "end_time": "2023-08-29T07:15:00.094648Z",
     "start_time": "2023-08-29T07:15:00.082343Z"
    }
   },
   "outputs": [],
   "source": [
    "#Outlier detection function"
   ]
  },
  {
   "cell_type": "code",
   "execution_count": null,
   "id": "24ecca5d-d8c7-458f-93be-6f22c3ef38a8",
   "metadata": {},
   "outputs": [],
   "source": [
    "import numpy as np\n",
    "\n",
    "numbers = np.array([2, 8, 5, 10, 3])\n",
    "result = np.where(numbers > 5, \"High\", \"Low\")\n",
    "\n",
    "print(result)"
   ]
  },
  {
   "cell_type": "code",
   "execution_count": null,
   "id": "821c5e52",
   "metadata": {
    "ExecuteTime": {
     "end_time": "2023-08-29T07:15:00.109858Z",
     "start_time": "2023-08-29T07:15:00.096693Z"
    }
   },
   "outputs": [],
   "source": [
    "def capping(data, columns):\n",
    "    \n",
    "    for col in columns:\n",
    "        q1 = data[col].quantile(0.25)\n",
    "        q3 = data[col].quantile(0.75)\n",
    "        iqr = q3-q1\n",
    "    \n",
    "        lower = q1-(1.5*iqr)\n",
    "        upper = q3+(1.5*iqr)\n",
    "        \n",
    "        df[col] = np.where(df[col] > upper, upper, np.where(df[col] < lower, lower,df[col]))"
   ]
  },
  {
   "cell_type": "code",
   "execution_count": null,
   "id": "f6048a4a",
   "metadata": {
    "ExecuteTime": {
     "end_time": "2023-08-29T07:15:00.215773Z",
     "start_time": "2023-08-29T07:15:00.202912Z"
    }
   },
   "outputs": [],
   "source": [
    "#Capping Outliers"
   ]
  },
  {
   "cell_type": "code",
   "execution_count": null,
   "id": "7a733a0b",
   "metadata": {
    "ExecuteTime": {
     "end_time": "2023-08-29T07:15:00.137947Z",
     "start_time": "2023-08-29T07:15:00.114873Z"
    }
   },
   "outputs": [],
   "source": [
    "capping(df, df.drop(columns=['Weather']).columns)"
   ]
  },
  {
   "cell_type": "code",
   "execution_count": null,
   "id": "ea953966",
   "metadata": {
    "ExecuteTime": {
     "end_time": "2023-08-29T07:15:00.950090Z",
     "start_time": "2023-08-29T07:15:00.587236Z"
    }
   },
   "outputs": [],
   "source": [
    "df.boxplot()"
   ]
  },
  {
   "cell_type": "markdown",
   "id": "62890fb5",
   "metadata": {},
   "source": [
    "# Scatter Plot and Correlation"
   ]
  },
  {
   "cell_type": "code",
   "execution_count": null,
   "id": "6364af89",
   "metadata": {
    "ExecuteTime": {
     "end_time": "2023-08-29T07:15:07.101290Z",
     "start_time": "2023-08-29T07:15:00.952009Z"
    }
   },
   "outputs": [],
   "source": [
    "sns.pairplot(df)"
   ]
  },
  {
   "cell_type": "code",
   "execution_count": null,
   "id": "30bdb177",
   "metadata": {
    "ExecuteTime": {
     "end_time": "2023-08-29T07:15:07.108290Z",
     "start_time": "2023-08-29T07:15:07.103288Z"
    }
   },
   "outputs": [],
   "source": [
    "#Correlation coefficient"
   ]
  },
  {
   "cell_type": "code",
   "execution_count": null,
   "id": "6dac8320",
   "metadata": {
    "ExecuteTime": {
     "end_time": "2023-08-29T07:15:07.134836Z",
     "start_time": "2023-08-29T07:15:07.111232Z"
    }
   },
   "outputs": [],
   "source": [
    "df.corr(numeric_only=True)"
   ]
  },
  {
   "cell_type": "code",
   "execution_count": null,
   "id": "bc51a0e3",
   "metadata": {
    "ExecuteTime": {
     "end_time": "2023-08-29T07:15:07.715095Z",
     "start_time": "2023-08-29T07:15:07.136832Z"
    }
   },
   "outputs": [],
   "source": [
    "sns.heatmap(df.corr(numeric_only=True),annot=True, cmap='viridis')"
   ]
  },
  {
   "cell_type": "markdown",
   "id": "4ebb4f16",
   "metadata": {},
   "source": [
    "# Transformations\n",
    "\n",
    "- Machines do not understand words and sentences.\n",
    "- Machines only understand numbers.\n",
    "- Before model building, we have convert all the categorical columns into numerical."
   ]
  },
  {
   "cell_type": "code",
   "execution_count": null,
   "id": "443a1215",
   "metadata": {
    "ExecuteTime": {
     "end_time": "2023-08-29T07:15:07.737119Z",
     "start_time": "2023-08-29T07:15:07.718176Z"
    }
   },
   "outputs": [],
   "source": [
    "df.head()"
   ]
  },
  {
   "cell_type": "code",
   "execution_count": null,
   "id": "06a41c9b",
   "metadata": {
    "ExecuteTime": {
     "end_time": "2023-08-29T07:15:07.753067Z",
     "start_time": "2023-08-29T07:15:07.741727Z"
    }
   },
   "outputs": [],
   "source": [
    "#Encoding using pandas dummy function."
   ]
  },
  {
   "cell_type": "code",
   "execution_count": null,
   "id": "adfaa938",
   "metadata": {
    "ExecuteTime": {
     "end_time": "2023-08-29T07:15:07.769035Z",
     "start_time": "2023-08-29T07:15:07.755067Z"
    }
   },
   "outputs": [],
   "source": [
    "df = pd.get_dummies(data=df,columns= ['Weather'], dtype=int)"
   ]
  },
  {
   "cell_type": "code",
   "execution_count": null,
   "id": "67841efa",
   "metadata": {
    "ExecuteTime": {
     "end_time": "2023-08-29T07:15:07.793656Z",
     "start_time": "2023-08-29T07:15:07.772554Z"
    }
   },
   "outputs": [],
   "source": [
    "df"
   ]
  },
  {
   "cell_type": "markdown",
   "id": "f7bab932",
   "metadata": {},
   "source": [
    "# **Scaling the data**\n",
    "\n",
    "- Normalization\n",
    "    - Scales value within the range of 0 to 1.\n",
    "- Standardization\n",
    "    - Uses Z score for scaling.\n",
    "    - Scale values in such a way that the mean = 0 and standard deviation is 1."
   ]
  },
  {
   "cell_type": "code",
   "execution_count": null,
   "id": "a7239396",
   "metadata": {
    "ExecuteTime": {
     "end_time": "2023-08-29T07:15:07.957171Z",
     "start_time": "2023-08-29T07:15:07.796657Z"
    }
   },
   "outputs": [],
   "source": [
    "from sklearn.preprocessing import StandardScaler, MinMaxScaler"
   ]
  },
  {
   "cell_type": "code",
   "execution_count": null,
   "id": "a31514bc",
   "metadata": {
    "ExecuteTime": {
     "end_time": "2023-08-29T07:15:07.973782Z",
     "start_time": "2023-08-29T07:15:07.964137Z"
    }
   },
   "outputs": [],
   "source": [
    "sc = StandardScaler()"
   ]
  },
  {
   "cell_type": "code",
   "execution_count": null,
   "id": "8d21a7d0",
   "metadata": {
    "ExecuteTime": {
     "end_time": "2023-08-29T07:15:08.003976Z",
     "start_time": "2023-08-29T07:15:07.979777Z"
    }
   },
   "outputs": [],
   "source": [
    "df.head()"
   ]
  },
  {
   "cell_type": "code",
   "execution_count": null,
   "id": "d5c51485",
   "metadata": {
    "ExecuteTime": {
     "end_time": "2023-08-29T07:15:08.019605Z",
     "start_time": "2023-08-29T07:15:08.007074Z"
    }
   },
   "outputs": [],
   "source": [
    "sc.fit_transform(df)"
   ]
  },
  {
   "cell_type": "code",
   "execution_count": null,
   "id": "391a8cc8",
   "metadata": {
    "ExecuteTime": {
     "end_time": "2023-08-29T07:15:08.052608Z",
     "start_time": "2023-08-29T07:15:08.022109Z"
    }
   },
   "outputs": [],
   "source": [
    "scaled_data = pd.DataFrame(sc.fit_transform(df), columns=df.columns)\n",
    "scaled_data"
   ]
  },
  {
   "cell_type": "code",
   "execution_count": null,
   "id": "c33a60c5",
   "metadata": {
    "ExecuteTime": {
     "end_time": "2023-08-29T07:15:08.105364Z",
     "start_time": "2023-08-29T07:15:08.057727Z"
    }
   },
   "outputs": [],
   "source": [
    "scaled_data.describe()"
   ]
  },
  {
   "cell_type": "code",
   "execution_count": null,
   "id": "aaeef288",
   "metadata": {
    "ExecuteTime": {
     "end_time": "2023-08-29T07:15:08.621248Z",
     "start_time": "2023-08-29T07:15:08.108377Z"
    }
   },
   "outputs": [],
   "source": [
    "#MinMaxScalar"
   ]
  },
  {
   "cell_type": "code",
   "execution_count": null,
   "id": "0c31a293",
   "metadata": {
    "ExecuteTime": {
     "end_time": "2023-08-29T07:36:28.205140Z",
     "start_time": "2023-08-29T07:36:28.196585Z"
    }
   },
   "outputs": [],
   "source": [
    "mn = MinMaxScaler()"
   ]
  },
  {
   "cell_type": "code",
   "execution_count": null,
   "id": "821ddf32",
   "metadata": {
    "ExecuteTime": {
     "end_time": "2023-08-29T07:43:04.919449Z",
     "start_time": "2023-08-29T07:43:04.892162Z"
    }
   },
   "outputs": [],
   "source": [
    "minmax_scaled = pd.DataFrame(mn.fit_transform(df), columns=df.columns)\n",
    "minmax_scaled"
   ]
  },
  {
   "cell_type": "code",
   "execution_count": null,
   "id": "976502ce",
   "metadata": {
    "ExecuteTime": {
     "end_time": "2023-08-29T07:43:36.415595Z",
     "start_time": "2023-08-29T07:43:36.373362Z"
    }
   },
   "outputs": [],
   "source": [
    "minmax_scaled.describe()"
   ]
  },
  {
   "cell_type": "code",
   "execution_count": null,
   "id": "37694e06",
   "metadata": {},
   "outputs": [],
   "source": []
  }
 ],
 "metadata": {
  "kernelspec": {
   "display_name": "Python 3 (ipykernel)",
   "language": "python",
   "name": "python3"
  },
  "language_info": {
   "codemirror_mode": {
    "name": "ipython",
    "version": 3
   },
   "file_extension": ".py",
   "mimetype": "text/x-python",
   "name": "python",
   "nbconvert_exporter": "python",
   "pygments_lexer": "ipython3",
   "version": "3.12.4"
  }
 },
 "nbformat": 4,
 "nbformat_minor": 5
}
